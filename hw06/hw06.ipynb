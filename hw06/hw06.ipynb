{
 "cells": [
  {
   "cell_type": "markdown",
   "metadata": {},
   "source": [
    "# EE 123 Homework 06"
   ]
  },
  {
   "cell_type": "markdown",
   "metadata": {},
   "source": [
    "Bryan Ngo"
   ]
  },
  {
   "cell_type": "code",
   "execution_count": 1,
   "metadata": {},
   "outputs": [],
   "source": [
    "import matplotlib.pyplot as plt\n",
    "import numpy as np\n",
    "\n",
    "%matplotlib inline"
   ]
  },
  {
   "cell_type": "markdown",
   "metadata": {},
   "source": [
    "# 2. Signal Interpolation"
   ]
  },
  {
   "cell_type": "code",
   "execution_count": 2,
   "metadata": {},
   "outputs": [
    {
     "data": {
      "image/png": "[encoded data removed]",
      "text/plain": [
       "<Figure size 432x288 with 1 Axes>"
      ]
     },
     "metadata": {
      "needs_background": "light"
     },
     "output_type": "display_data"
    }
   ],
   "source": [
    "x = np.array([0, 0, 1, 1, 0, 1, 1, 0])\n",
    "\n",
    "plt.xlabel(\"$n$\")\n",
    "plt.ylabel(\"$x[n]$\")\n",
    "plt.stem(x);"
   ]
  },
  {
   "cell_type": "markdown",
   "metadata": {},
   "source": [
    "## 2a: Linear Interpolation"
   ]
  },
  {
   "cell_type": "code",
   "execution_count": 3,
   "metadata": {},
   "outputs": [
    {
     "name": "stdout",
     "output_type": "stream",
     "text": [
      "[0.  0.  0.  0.  1.  0.5 1.  1.  0.  0.5 1.  0.5 1.  1.  0.  0.5]\n"
     ]
    }
   ],
   "source": [
    "x_lin_interp = np.empty(2 * len(x))\n",
    "x_lin_interp[::2] = x\n",
    "x_lin_interp[1::2] = 0.5 * (x + np.roll(x, 1))\n",
    "print(x_lin_interp)"
   ]
  },
  {
   "cell_type": "code",
   "execution_count": 4,
   "metadata": {},
   "outputs": [
    {
     "data": {
      "image/png": "[encoded data removed]",
      "text/plain": [
       "<Figure size 432x288 with 1 Axes>"
      ]
     },
     "metadata": {
      "needs_background": "light"
     },
     "output_type": "display_data"
    }
   ],
   "source": [
    "\n",
    "plt.xlabel(\"$n$\")\n",
    "plt.ylabel(\"$\\\\tilde{x}[n]$\")\n",
    "plt.stem(x_lin_interp);"
   ]
  },
  {
   "cell_type": "markdown",
   "metadata": {},
   "source": [
    "Linear interpolation does not represent the original signal well, since it does not stay constant when it should."
   ]
  },
  {
   "cell_type": "markdown",
   "metadata": {},
   "source": [
    "## 2b. DFT Interpolation"
   ]
  },
  {
   "cell_type": "code",
   "execution_count": 5,
   "metadata": {},
   "outputs": [
    {
     "name": "stdout",
     "output_type": "stream",
     "text": [
      "[ 4.        +0.j -1.41421356+0.j -2.        +0.j  1.41421356+0.j\n",
      "  0.        +0.j  1.41421356+0.j -2.        +0.j -1.41421356+0.j]\n"
     ]
    }
   ],
   "source": [
    "X = np.fft.fft(x)\n",
    "\n",
    "print(X)"
   ]
  },
  {
   "cell_type": "code",
   "execution_count": 6,
   "metadata": {},
   "outputs": [
    {
     "name": "stdout",
     "output_type": "stream",
     "text": [
      "[ 0.00000000e+00+0.j -4.48951068e-02+0.j -1.11022302e-16+0.j\n",
      "  3.91613624e-01+0.j  1.00000000e+00+0.j  1.31549316e+00+0.j\n",
      "  1.00000000e+00+0.j  3.37788326e-01+0.j  0.00000000e+00+0.j\n",
      "  3.37788326e-01+0.j  1.00000000e+00+0.j  1.31549316e+00+0.j\n",
      "  1.00000000e+00+0.j  3.91613624e-01+0.j -1.11022302e-16+0.j\n",
      " -4.48951068e-02+0.j]\n"
     ]
    }
   ],
   "source": [
    "X_pad = np.zeros(2 * len(X), dtype=complex)\n",
    "X_pad[:4] = 2 * X[:4]\n",
    "X_pad[12:] = 2 * X[4:8]\n",
    "\n",
    "x_dft_interp = np.fft.ifft(X_pad)\n",
    "print(x_dft_interp)"
   ]
  },
  {
   "cell_type": "code",
   "execution_count": 7,
   "metadata": {},
   "outputs": [
    {
     "data": {
      "image/png": "[encoded data removed]",
      "text/plain": [
       "<Figure size 432x288 with 1 Axes>"
      ]
     },
     "metadata": {
      "needs_background": "light"
     },
     "output_type": "display_data"
    }
   ],
   "source": [
    "plt.xlabel(\"$n$\")\n",
    "plt.ylabel(\"$\\\\tilde{x}[n]$\")\n",
    "plt.stem(x_dft_interp.real);"
   ]
  },
  {
   "cell_type": "markdown",
   "metadata": {},
   "source": [
    "DFT interpolation does not represent the original signal well since it smooths out the peaks."
   ]
  },
  {
   "cell_type": "markdown",
   "metadata": {},
   "source": [
    "## 2c. Haar Interpolation"
   ]
  },
  {
   "cell_type": "code",
   "execution_count": 8,
   "metadata": {},
   "outputs": [
    {
     "name": "stdout",
     "output_type": "stream",
     "text": [
      "[ 1.41421356  0.         -1.          0.          0.          0.\n",
      " -0.70710678  0.70710678]\n"
     ]
    }
   ],
   "source": [
    "H_8 = 1 / np.sqrt(8) * np.vstack((\n",
    "    np.ones(8),\n",
    "    np.hstack((np.ones(4), -np.ones(4))),\n",
    "    np.hstack((\n",
    "        np.repeat(np.sqrt(2), 2),\n",
    "        -np.repeat(np.sqrt(2), 2),\n",
    "        np.zeros(4)\n",
    "    )),\n",
    "    np.hstack((\n",
    "        np.zeros(4),\n",
    "        np.repeat(np.sqrt(2), 2),\n",
    "        -np.repeat(np.sqrt(2), 2)\n",
    "    )),\n",
    "    np.pad([2, -2], (0, 6)),\n",
    "    np.pad([2, -2], (2, 4)),\n",
    "    np.pad([2, -2], (4, 2)),\n",
    "    np.pad([2, -2], (6, 0)),\n",
    "))\n",
    "\n",
    "x_haar = H_8 @ x\n",
    "print(x_haar)"
   ]
  },
  {
   "cell_type": "code",
   "execution_count": 9,
   "metadata": {},
   "outputs": [
    {
     "name": "stdout",
     "output_type": "stream",
     "text": [
      "[-6.83580866e-17 -6.83580866e-17 -6.83580866e-17 -6.83580866e-17\n",
      "  1.00000000e+00  1.00000000e+00  1.00000000e+00  1.00000000e+00\n",
      "  0.00000000e+00  0.00000000e+00  1.00000000e+00  1.00000000e+00\n",
      "  1.00000000e+00  1.00000000e+00  0.00000000e+00  0.00000000e+00]\n"
     ]
    }
   ],
   "source": [
    "x_haar_pad = np.hstack((np.sqrt(2) * x_haar, np.zeros(len(x_haar))))\n",
    "\n",
    "H_16 = 1 / 4 * np.vstack((\n",
    "    np.ones(16),\n",
    "\n",
    "    np.hstack((np.ones(8), -np.ones(8))),\n",
    "    \n",
    "    np.hstack((\n",
    "        np.repeat(np.sqrt(2), 4),\n",
    "        -np.repeat(np.sqrt(2), 4),\n",
    "        np.zeros(8)\n",
    "    )),\n",
    "    np.hstack((\n",
    "        np.zeros(8),\n",
    "        np.repeat(np.sqrt(2), 4),\n",
    "        -np.repeat(np.sqrt(2), 4)\n",
    "    )),\n",
    "\n",
    "    np.pad(np.array([2, 2, -2, -2]), (0, 12)),\n",
    "    np.pad(np.array([2, 2, -2, -2]), (4, 8)),\n",
    "    np.pad(np.array([2, 2, -2, -2]), (8, 4)),\n",
    "    np.pad(np.array([2, 2, -2, -2]), (12, 0)),\n",
    "\n",
    "    np.pad(np.sqrt(8) * np.array([1, -1]), (0, 14)),\n",
    "    np.pad(np.sqrt(8) * np.array([1, -1]), (2, 12)),\n",
    "    np.pad(np.sqrt(8) * np.array([1, -1]), (4, 10)),\n",
    "    np.pad(np.sqrt(8) * np.array([1, -1]), (6, 8)),\n",
    "    np.pad(np.sqrt(8) * np.array([1, -1]), (8, 6)),\n",
    "    np.pad(np.sqrt(8) * np.array([1, -1]), (10, 4)),\n",
    "    np.pad(np.sqrt(8) * np.array([1, -1]), (12, 2)),\n",
    "    np.pad(np.sqrt(8) * np.array([1, -1]), (14, 0)),\n",
    "))\n",
    "\n",
    "x_haar_interp = H_16.T @ x_haar_pad\n",
    "print(x_haar_interp)"
   ]
  },
  {
   "cell_type": "code",
   "execution_count": 10,
   "metadata": {},
   "outputs": [
    {
     "data": {
      "image/png": "[encoded data removed]",
      "text/plain": [
       "<Figure size 432x288 with 1 Axes>"
      ]
     },
     "metadata": {
      "needs_background": "light"
     },
     "output_type": "display_data"
    }
   ],
   "source": [
    "plt.xlabel(\"$n$\")\n",
    "plt.ylabel(\"$\\\\tilde{x}[n]$\")\n",
    "plt.stem(x_haar_interp);"
   ]
  },
  {
   "cell_type": "markdown",
   "metadata": {},
   "source": [
    "Haar interpolation upsamples the signal perfectly."
   ]
  }
 ],
 "metadata": {
  "interpreter": {
   "hash": "927263bdb04ea84154b55e8a4b22070870b91b1193e47152ef2761c9623a4631"
  },
  "kernelspec": {
   "display_name": "Python 3.9.7 ('base')",
   "language": "python",
   "name": "python3"
  },
  "language_info": {
   "codemirror_mode": {
    "name": "ipython",
    "version": 3
   },
   "file_extension": ".py",
   "mimetype": "text/x-python",
   "name": "python",
   "nbconvert_exporter": "python",
   "pygments_lexer": "ipython3",
   "version": "3.9.7"
  },
  "orig_nbformat": 4
 },
 "nbformat": 4,
 "nbformat_minor": 2
}
